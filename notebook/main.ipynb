{
 "cells": [
  {
   "cell_type": "markdown",
   "metadata": {},
   "source": [
    "# **Step 1: Import Library**"
   ]
  },
  {
   "cell_type": "code",
   "execution_count": 49,
   "metadata": {},
   "outputs": [],
   "source": [
    "import numpy as np\n",
    "import pandas as pd\n",
    "from sklearn.preprocessing import LabelEncoder\n",
    "from sklearn.utils import resample\n",
    "import matplotlib.pyplot as plt\n",
    "import seaborn as sns\n",
    "from surprise import Dataset, Reader\n",
    "from surprise.model_selection import train_test_split\n",
    "from surprise import SVD\n",
    "from surprise import accuracy"
   ]
  },
  {
   "cell_type": "markdown",
   "metadata": {},
   "source": [
    "# **Step 2: Load Dataset**"
   ]
  },
  {
   "cell_type": "code",
   "execution_count": 50,
   "metadata": {},
   "outputs": [
    {
     "data": {
      "application/vnd.microsoft.datawrangler.viewer.v0+json": {
       "columns": [
        {
         "name": "index",
         "rawType": "int64",
         "type": "integer"
        },
        {
         "name": "Id",
         "rawType": "object",
         "type": "string"
        },
        {
         "name": "Title",
         "rawType": "object",
         "type": "string"
        },
        {
         "name": "Price",
         "rawType": "float64",
         "type": "float"
        },
        {
         "name": "User_id",
         "rawType": "object",
         "type": "string"
        },
        {
         "name": "profileName",
         "rawType": "object",
         "type": "string"
        },
        {
         "name": "review/helpfulness",
         "rawType": "object",
         "type": "string"
        },
        {
         "name": "review/score",
         "rawType": "float64",
         "type": "float"
        },
        {
         "name": "review/time",
         "rawType": "int64",
         "type": "integer"
        },
        {
         "name": "review/summary",
         "rawType": "object",
         "type": "string"
        },
        {
         "name": "review/text",
         "rawType": "object",
         "type": "string"
        }
       ],
       "conversionMethod": "pd.DataFrame",
       "ref": "4b92f848-30c2-48b6-926e-ee7eb26c2326",
       "rows": [
        [
         "0",
         "1882931173",
         "Its Only Art If Its Well Hung!",
         null,
         "AVCGYZL8FQQTD",
         "Jim of Oz \"jim-of-oz\"",
         "7/7",
         "4.0",
         "940636800",
         "Nice collection of Julie Strain images",
         "This is only for Julie Strain fans. It's a collection of her photos -- about 80 pages worth with a nice section of paintings by Olivia.If you're looking for heavy literary content, this isn't the place to find it -- there's only about 2 pages with text and everything else is photos.Bottom line: if you only want one book, the Six Foot One ... is probably a better choice, however, if you like Julie like I like Julie, you won't go wrong on this one either."
        ],
        [
         "1",
         "0826414346",
         "Dr. Seuss: American Icon",
         null,
         "A30TK6U7DNS82R",
         "Kevin Killian",
         "10/10",
         "5.0",
         "1095724800",
         "Really Enjoyed It",
         "I don't care much for Dr. Seuss but after reading Philip Nel's book I changed my mind--that's a good testimonial to the power of Rel's writing and thinking. Rel plays Dr. Seuss the ultimate compliment of treating him as a serious poet as well as one of the 20th century's most interesting visual artists, and after reading his book I decided that a trip to the Mandeville Collections of the library at University of California in San Diego was in order, so I could visit some of the incredible Seuss/Geisel holdings they have there.There's almost too much to take in, for, like William Butler Yeats, Seuss led a career that constantly shifted and metamoprhized itself to meet new historical and political cirsumstances, so he seems to have been both a leftist and a conservative at different junctures of his career, both in politics and in art. As Nel shows us, he was once a cartoonist for the fabled PM magazine and, like Andy Warhol, he served his time slaving in the ad business too. All was in the service of amusing and broadening the minds of US children. Nel doesn't hesitate to administer a sound spanking to the Seuss industry that, since his death, has seen fit to license all kinds of awful products including the recent CAT IN THE HAT film with Mike Myers. Oh, what a cat-astrophe!The book is great and I can especially recommend the work of the picture editor who has given us a bounty of good illustrations."
        ],
        [
         "2",
         "0826414346",
         "Dr. Seuss: American Icon",
         null,
         "A3UH4UZ4RSVO82",
         "John Granger",
         "10/11",
         "5.0",
         "1078790400",
         "Essential for every personal and Public Library",
         "If people become the books they read and if \"the child is father to the man,\" then Dr. Seuss (Theodor Seuss Geisel) is the most influential author, poet, and artist of modern times. For me, a daddy to a large family who learned to read with Dr. Seuss and who has memorized too many of the books via repeated readings to young children, Prof. Nel's brilliant 'American Icon' is a long awaited treat. At last a serious treatment of this remarkable genius that is both an engaging read and filled with remarkable insights! I especially enjoyed (and learned more than I care to admit from) Prof. Nel's discussions of the Disneyfication of Seuss - which Nel links to failings in American copyright law, \"the other sides of Dr. Seuss\" - all of which sides were new to me, and the political genesis of his secular morality in the WWII cartoon work he did at PM magazine. The chapters on Geisel's poetry and artwork and the link Nel makes between Seuss and the historical avant guarde alone make this book a \"must buy\" for parents and serious readers, not to mention public libraries. Readers of Nel's other books will find the same engaging writing style that makes the book a fun read while imparting a mountain of information and important ideas. This is simply the best and most comprehensive book yet written on the work of Seuss Geisel and what will certainly be the standard for many years to come. Thank you, Prof. Nel, wherever you are, from a reader who grew up with the good doctor and who is growing up with him again years later. Your book, written from your encyclopeadic knowledge of children's literature and the media of this genre - from scanning verse to cubist painting! - explains the power, limits, and popularity of the Seuss phenomenon."
        ],
        [
         "3",
         "0826414346",
         "Dr. Seuss: American Icon",
         null,
         "A2MVUWT453QH61",
         "Roy E. Perry \"amateur philosopher\"",
         "7/7",
         "4.0",
         "1090713600",
         "Phlip Nel gives silly Seuss a serious treatment",
         "Theodore Seuss Geisel (1904-1991), aka &quot;Dr. Seuss,&quot; was one of the most influential writers and artists of the 20th century.In 1959, Rudolf Flesch wrote, &quot;A hundred years from now, children and their parents will still eagerly read the books of a fellow called Ted Geisel, popularly known as Dr. Seuss.&quot;Flesch was too conservative in his prediction. A century, and more, from today, Dr. Seuss will still be read when many authors on today's bestseller lists will be forgotten.Published on the centenary of Geisel's birth, Dr. Seuss: American Icon analyzes six key aspects of Seuss's career: poetry, politics, art, biography, marketing, and influence.In six insightful chapters, Philip Nel, Assistant Professor of English at Kansas State University, discusses &quot;U.S. Laureate of Nonsense,&quot; &quot;Dr. Seuss vs. Adolf Hitler,&quot; &quot;The Doc in the Smock,&quot; &quot;The 5,000 Fingers of Dr. S.,&quot; &quot;The Disneyfication of Dr. Seuss,&quot; and &quot;The Cat in the Hat for President.&quot;Nel gives short shrift to Geisel's childhood and family background--and, indeed, to biography in general--preferring to focus on Seuss's writing and art, from his first book, And to Think That I Saw It on Mulberry Street (1937) to his last book, Oh, the Places You'll Go! (1990).Dr. Seuss's breakthrough year was 1957, when he published the two books with which he is most often identified: The Cat in the Hat and How the Grinch Stole Christmas!Other classic works in the Seussian canon are: Horton Hears a Who! (&quot;A person's a person, no matter how small&quot;), Yertle the Turtle (modeled on the rise of Adolf Hitler), Green Eggs and Ham (Seuss's bestselling book), The Sneeches (a criticism of anti-Semitism), The Lorax (a protest against corporate abuse of the environment), and The Butter Battle Book (a critique of Reagan's enthusiasm for the nuclear arms trace).His favorite work, among the books he authored, was The Cat in the Hat, for it, more than any other, taught children to read.While many of his books have a clear and powerful moral, Seuss had a horror of heavy-handed preaching. He sought to teach and ignite the imagination, but was a lifelong opponent of smug, self-righteous bourgeois moralism.&quot;Seuss was a contrarian,&quot; writes Nel, &quot;who enjoyed challenging people to reconsider their assumptions. [He had a] rebellious imagination and a dispositional distaste for rules and regulations.&quot; His work was a &quot;rational insanity&quot; that exhibited &quot;joyous anarchy&quot; and a &quot;lifelong thrill in misbehaving.&quot;A better subtitle for Nel's work would have been American Icon and Iconoclast.Nel tells of Seuss's early years as an advertising artist and as a agitprop cartoonist. The book, however, is not a biography; it is a serious study in the genres of literary and art criticism.For readers who want more biographical information, Nel recommends Dr. Seuss and Mr. Geisel, by Judith Morgan and Neil Morgan (1995), which he describes as &quot;the definitive biography and the single best secondary source on Seuss. Any discussion of Seuss's life and work must begin with this book.&quot;Dr. Seuss: American Icon includes 103 pages of notes, index, and the most comprehensive annotated Seuss bibliography ever assembled. One learns a lot from this book; the author's lucid style makes it not only an enlightening work but a fun read.Philip Nel is the author of J. K. Rowling's Harry Potter Novels: A Reader's Guide (2001) and The Avant-Garde and American Postmodernity (2002).Roy E. Perry of Nolensville, Tennessee, is an advertising copywriter at a Nashville publishing house."
        ],
        [
         "4",
         "0826414346",
         "Dr. Seuss: American Icon",
         null,
         "A22X4XUPKF66MR",
         "D. H. Richards \"ninthwavestore\"",
         "3/3",
         "4.0",
         "1107993600",
         "Good academic overview",
         "Philip Nel - Dr. Seuss: American IconThis is basically an academic overview of Seuss poetry, art, cartoons, and the problems with the commercialization of the Seuss name and works after his death. It is not, to any real extent, a biography. Those seeking such should move on.As an academic book it leans on the dry side. It assumes the reader has a fairly good knowledge of Children's Literature and 20th Century cartoons (not the animated kind). Not a book to begin your Dr. Seuss experience with. But if you have read them to your children and are interested about the writing style (there is a good chapter about his poetry) or his art style (not as good a chapter, but still interesting).What interested me the most was the deconstruction of the recent rush to \"cash in\" on Seuss by Hollywood and advertisers. I think that Nel wants to come down against it, but based on Seuss' background (he started out drawing Flit ads) and the projects he approved during his lifetime; it is a tough argument to make. In the end though Nel does point out that maybe the movies and tie- ins did not have to be so... crass?The book is well researched; lots of neat tidbits are to be gleamed. Early cartoons by Seuss for PM magazine were occasionally (by today's standards) shockingly racist. It makes him a little more human and puts his latter works like the Lorax in a new light.Those in Education may enjoy this background. Fans of Seuss will enjoy the exhaustive bibliography of Seuss's many, many works. Also good list of other works about the man."
        ]
       ],
       "shape": {
        "columns": 10,
        "rows": 5
       }
      },
      "text/html": [
       "<div>\n",
       "<style scoped>\n",
       "    .dataframe tbody tr th:only-of-type {\n",
       "        vertical-align: middle;\n",
       "    }\n",
       "\n",
       "    .dataframe tbody tr th {\n",
       "        vertical-align: top;\n",
       "    }\n",
       "\n",
       "    .dataframe thead th {\n",
       "        text-align: right;\n",
       "    }\n",
       "</style>\n",
       "<table border=\"1\" class=\"dataframe\">\n",
       "  <thead>\n",
       "    <tr style=\"text-align: right;\">\n",
       "      <th></th>\n",
       "      <th>Id</th>\n",
       "      <th>Title</th>\n",
       "      <th>Price</th>\n",
       "      <th>User_id</th>\n",
       "      <th>profileName</th>\n",
       "      <th>review/helpfulness</th>\n",
       "      <th>review/score</th>\n",
       "      <th>review/time</th>\n",
       "      <th>review/summary</th>\n",
       "      <th>review/text</th>\n",
       "    </tr>\n",
       "  </thead>\n",
       "  <tbody>\n",
       "    <tr>\n",
       "      <th>0</th>\n",
       "      <td>1882931173</td>\n",
       "      <td>Its Only Art If Its Well Hung!</td>\n",
       "      <td>NaN</td>\n",
       "      <td>AVCGYZL8FQQTD</td>\n",
       "      <td>Jim of Oz \"jim-of-oz\"</td>\n",
       "      <td>7/7</td>\n",
       "      <td>4.0</td>\n",
       "      <td>940636800</td>\n",
       "      <td>Nice collection of Julie Strain images</td>\n",
       "      <td>This is only for Julie Strain fans. It's a col...</td>\n",
       "    </tr>\n",
       "    <tr>\n",
       "      <th>1</th>\n",
       "      <td>0826414346</td>\n",
       "      <td>Dr. Seuss: American Icon</td>\n",
       "      <td>NaN</td>\n",
       "      <td>A30TK6U7DNS82R</td>\n",
       "      <td>Kevin Killian</td>\n",
       "      <td>10/10</td>\n",
       "      <td>5.0</td>\n",
       "      <td>1095724800</td>\n",
       "      <td>Really Enjoyed It</td>\n",
       "      <td>I don't care much for Dr. Seuss but after read...</td>\n",
       "    </tr>\n",
       "    <tr>\n",
       "      <th>2</th>\n",
       "      <td>0826414346</td>\n",
       "      <td>Dr. Seuss: American Icon</td>\n",
       "      <td>NaN</td>\n",
       "      <td>A3UH4UZ4RSVO82</td>\n",
       "      <td>John Granger</td>\n",
       "      <td>10/11</td>\n",
       "      <td>5.0</td>\n",
       "      <td>1078790400</td>\n",
       "      <td>Essential for every personal and Public Library</td>\n",
       "      <td>If people become the books they read and if \"t...</td>\n",
       "    </tr>\n",
       "    <tr>\n",
       "      <th>3</th>\n",
       "      <td>0826414346</td>\n",
       "      <td>Dr. Seuss: American Icon</td>\n",
       "      <td>NaN</td>\n",
       "      <td>A2MVUWT453QH61</td>\n",
       "      <td>Roy E. Perry \"amateur philosopher\"</td>\n",
       "      <td>7/7</td>\n",
       "      <td>4.0</td>\n",
       "      <td>1090713600</td>\n",
       "      <td>Phlip Nel gives silly Seuss a serious treatment</td>\n",
       "      <td>Theodore Seuss Geisel (1904-1991), aka &amp;quot;D...</td>\n",
       "    </tr>\n",
       "    <tr>\n",
       "      <th>4</th>\n",
       "      <td>0826414346</td>\n",
       "      <td>Dr. Seuss: American Icon</td>\n",
       "      <td>NaN</td>\n",
       "      <td>A22X4XUPKF66MR</td>\n",
       "      <td>D. H. Richards \"ninthwavestore\"</td>\n",
       "      <td>3/3</td>\n",
       "      <td>4.0</td>\n",
       "      <td>1107993600</td>\n",
       "      <td>Good academic overview</td>\n",
       "      <td>Philip Nel - Dr. Seuss: American IconThis is b...</td>\n",
       "    </tr>\n",
       "  </tbody>\n",
       "</table>\n",
       "</div>"
      ],
      "text/plain": [
       "           Id                           Title  Price         User_id  \\\n",
       "0  1882931173  Its Only Art If Its Well Hung!    NaN   AVCGYZL8FQQTD   \n",
       "1  0826414346        Dr. Seuss: American Icon    NaN  A30TK6U7DNS82R   \n",
       "2  0826414346        Dr. Seuss: American Icon    NaN  A3UH4UZ4RSVO82   \n",
       "3  0826414346        Dr. Seuss: American Icon    NaN  A2MVUWT453QH61   \n",
       "4  0826414346        Dr. Seuss: American Icon    NaN  A22X4XUPKF66MR   \n",
       "\n",
       "                          profileName review/helpfulness  review/score  \\\n",
       "0               Jim of Oz \"jim-of-oz\"                7/7           4.0   \n",
       "1                       Kevin Killian              10/10           5.0   \n",
       "2                        John Granger              10/11           5.0   \n",
       "3  Roy E. Perry \"amateur philosopher\"                7/7           4.0   \n",
       "4     D. H. Richards \"ninthwavestore\"                3/3           4.0   \n",
       "\n",
       "   review/time                                   review/summary  \\\n",
       "0    940636800           Nice collection of Julie Strain images   \n",
       "1   1095724800                                Really Enjoyed It   \n",
       "2   1078790400  Essential for every personal and Public Library   \n",
       "3   1090713600  Phlip Nel gives silly Seuss a serious treatment   \n",
       "4   1107993600                           Good academic overview   \n",
       "\n",
       "                                         review/text  \n",
       "0  This is only for Julie Strain fans. It's a col...  \n",
       "1  I don't care much for Dr. Seuss but after read...  \n",
       "2  If people become the books they read and if \"t...  \n",
       "3  Theodore Seuss Geisel (1904-1991), aka &quot;D...  \n",
       "4  Philip Nel - Dr. Seuss: American IconThis is b...  "
      ]
     },
     "execution_count": 50,
     "metadata": {},
     "output_type": "execute_result"
    }
   ],
   "source": [
    "df = pd.read_csv(\"../data/Books_rating.csv.zip\", compression=\"zip\")\n",
    "\n",
    "df.head()"
   ]
  },
  {
   "cell_type": "code",
   "execution_count": 51,
   "metadata": {},
   "outputs": [
    {
     "name": "stdout",
     "output_type": "stream",
     "text": [
      "<class 'pandas.core.frame.DataFrame'>\n",
      "RangeIndex: 3000000 entries, 0 to 2999999\n",
      "Data columns (total 10 columns):\n",
      " #   Column              Dtype  \n",
      "---  ------              -----  \n",
      " 0   Id                  object \n",
      " 1   Title               object \n",
      " 2   Price               float64\n",
      " 3   User_id             object \n",
      " 4   profileName         object \n",
      " 5   review/helpfulness  object \n",
      " 6   review/score        float64\n",
      " 7   review/time         int64  \n",
      " 8   review/summary      object \n",
      " 9   review/text         object \n",
      "dtypes: float64(2), int64(1), object(7)\n",
      "memory usage: 228.9+ MB\n",
      "Null rows:\n",
      "Id                          0\n",
      "Title                     208\n",
      "Price                 2518829\n",
      "User_id                561787\n",
      "profileName            561905\n",
      "review/helpfulness          0\n",
      "review/score                0\n",
      "review/time                 0\n",
      "review/summary            407\n",
      "review/text                 8\n",
      "dtype: int64\n",
      "Duplicated rows: 8774\n",
      "Describe:\n",
      "               Price  review/score   review/time\n",
      "count  481171.000000  3.000000e+06  3.000000e+06\n",
      "mean       21.762656  4.215289e+00  1.132307e+09\n",
      "std        26.206541  1.203054e+00  1.493202e+08\n",
      "min         1.000000  1.000000e+00 -1.000000e+00\n",
      "25%        10.780000  4.000000e+00  9.999072e+08\n",
      "50%        14.930000  5.000000e+00  1.128298e+09\n",
      "75%        23.950000  5.000000e+00  1.269130e+09\n",
      "max       995.000000  5.000000e+00  1.362355e+09\n",
      "Number of unique users: 1008972\n",
      "Number of unique books: 221998\n",
      "Number of unique ratings: 5\n"
     ]
    }
   ],
   "source": [
    "df.info()\n",
    "\n",
    "print(f\"Null rows:\\n{df.isnull().sum()}\")\n",
    "\n",
    "print(f\"Duplicated rows: {df.duplicated().sum()}\")\n",
    "\n",
    "print(f\"Describe:\\n{df.describe()}\")\n",
    "\n",
    "print(f\"Number of unique users: {df[\"User_id\"].nunique()}\")\n",
    "print(f\"Number of unique books: {df[\"Id\"].nunique()}\")\n",
    "print(f\"Number of unique ratings: {df[\"review/score\"].nunique()}\")"
   ]
  },
  {
   "cell_type": "markdown",
   "metadata": {},
   "source": [
    "# **Step 3: Data Preprocessing**"
   ]
  },
  {
   "cell_type": "markdown",
   "metadata": {},
   "source": [
    "## ***Filtering***"
   ]
  },
  {
   "cell_type": "code",
   "execution_count": 52,
   "metadata": {},
   "outputs": [
    {
     "data": {
      "application/vnd.microsoft.datawrangler.viewer.v0+json": {
       "columns": [
        {
         "name": "index",
         "rawType": "int64",
         "type": "integer"
        },
        {
         "name": "BookID",
         "rawType": "object",
         "type": "string"
        },
        {
         "name": "UserID",
         "rawType": "object",
         "type": "string"
        },
        {
         "name": "Rating",
         "rawType": "float64",
         "type": "float"
        }
       ],
       "conversionMethod": "pd.DataFrame",
       "ref": "db01dae4-0b19-4d17-b6d7-3c345c65374a",
       "rows": [
        [
         "1",
         "0826414346",
         "A30TK6U7DNS82R",
         "5.0"
        ],
        [
         "3",
         "0826414346",
         "A2MVUWT453QH61",
         "4.0"
        ],
        [
         "4",
         "0826414346",
         "A22X4XUPKF66MR",
         "4.0"
        ],
        [
         "5",
         "0826414346",
         "A2F6NONFUDB6UK",
         "4.0"
        ],
        [
         "11",
         "0829814000",
         "A373VVEU6Z9M0N",
         "5.0"
        ]
       ],
       "shape": {
        "columns": 3,
        "rows": 5
       }
      },
      "text/html": [
       "<div>\n",
       "<style scoped>\n",
       "    .dataframe tbody tr th:only-of-type {\n",
       "        vertical-align: middle;\n",
       "    }\n",
       "\n",
       "    .dataframe tbody tr th {\n",
       "        vertical-align: top;\n",
       "    }\n",
       "\n",
       "    .dataframe thead th {\n",
       "        text-align: right;\n",
       "    }\n",
       "</style>\n",
       "<table border=\"1\" class=\"dataframe\">\n",
       "  <thead>\n",
       "    <tr style=\"text-align: right;\">\n",
       "      <th></th>\n",
       "      <th>BookID</th>\n",
       "      <th>UserID</th>\n",
       "      <th>Rating</th>\n",
       "    </tr>\n",
       "  </thead>\n",
       "  <tbody>\n",
       "    <tr>\n",
       "      <th>1</th>\n",
       "      <td>0826414346</td>\n",
       "      <td>A30TK6U7DNS82R</td>\n",
       "      <td>5.0</td>\n",
       "    </tr>\n",
       "    <tr>\n",
       "      <th>3</th>\n",
       "      <td>0826414346</td>\n",
       "      <td>A2MVUWT453QH61</td>\n",
       "      <td>4.0</td>\n",
       "    </tr>\n",
       "    <tr>\n",
       "      <th>4</th>\n",
       "      <td>0826414346</td>\n",
       "      <td>A22X4XUPKF66MR</td>\n",
       "      <td>4.0</td>\n",
       "    </tr>\n",
       "    <tr>\n",
       "      <th>5</th>\n",
       "      <td>0826414346</td>\n",
       "      <td>A2F6NONFUDB6UK</td>\n",
       "      <td>4.0</td>\n",
       "    </tr>\n",
       "    <tr>\n",
       "      <th>11</th>\n",
       "      <td>0829814000</td>\n",
       "      <td>A373VVEU6Z9M0N</td>\n",
       "      <td>5.0</td>\n",
       "    </tr>\n",
       "  </tbody>\n",
       "</table>\n",
       "</div>"
      ],
      "text/plain": [
       "        BookID          UserID  Rating\n",
       "1   0826414346  A30TK6U7DNS82R     5.0\n",
       "3   0826414346  A2MVUWT453QH61     4.0\n",
       "4   0826414346  A22X4XUPKF66MR     4.0\n",
       "5   0826414346  A2F6NONFUDB6UK     4.0\n",
       "11  0829814000  A373VVEU6Z9M0N     5.0"
      ]
     },
     "execution_count": 52,
     "metadata": {},
     "output_type": "execute_result"
    }
   ],
   "source": [
    "df_filter = df.rename(columns={\"User_id\": \"UserID\", \"Id\": \"BookID\", \"review/score\": \"Rating\"})\n",
    "\n",
    "df_filter = df_filter[[\"BookID\", \"UserID\", \"Rating\"]].dropna().drop_duplicates()\n",
    "\n",
    "min_reviews = 5\n",
    "max_reviews = 500\n",
    "\n",
    "user_counts = df_filter[\"UserID\"].value_counts()\n",
    "\n",
    "df_filter = df_filter[df_filter[\"UserID\"].map(user_counts).between(min_reviews, max_reviews)]\n",
    "\n",
    "df_filter.head()"
   ]
  },
  {
   "cell_type": "code",
   "execution_count": 53,
   "metadata": {},
   "outputs": [
    {
     "name": "stdout",
     "output_type": "stream",
     "text": [
      "<class 'pandas.core.frame.DataFrame'>\n",
      "Index: 1084439 entries, 1 to 2999996\n",
      "Data columns (total 3 columns):\n",
      " #   Column  Non-Null Count    Dtype  \n",
      "---  ------  --------------    -----  \n",
      " 0   BookID  1084439 non-null  object \n",
      " 1   UserID  1084439 non-null  object \n",
      " 2   Rating  1084439 non-null  float64\n",
      "dtypes: float64(1), object(2)\n",
      "memory usage: 33.1+ MB\n",
      "Null rows:\n",
      "BookID    0\n",
      "UserID    0\n",
      "Rating    0\n",
      "dtype: int64\n",
      "Duplicated rows: 0\n",
      "Describe:\n",
      "             Rating\n",
      "count  1.084439e+06\n",
      "mean   4.234467e+00\n",
      "std    1.104362e+00\n",
      "min    1.000000e+00\n",
      "25%    4.000000e+00\n",
      "50%    5.000000e+00\n",
      "75%    5.000000e+00\n",
      "max    5.000000e+00\n",
      "Number of unique users: 81666\n",
      "Number of unique books: 127943\n",
      "Number of unique ratings: 5\n"
     ]
    }
   ],
   "source": [
    "df_filter.info()\n",
    "\n",
    "print(f\"Null rows:\\n{df_filter.isnull().sum()}\")\n",
    "\n",
    "print(f\"Duplicated rows: {df_filter.duplicated().sum()}\")\n",
    "\n",
    "print(f\"Describe:\\n{df_filter.describe()}\")\n",
    "\n",
    "print(f\"Number of unique users: {df_filter[\"UserID\"].nunique()}\")\n",
    "print(f\"Number of unique books: {df_filter[\"BookID\"].nunique()}\")\n",
    "print(f\"Number of unique ratings: {df_filter[\"Rating\"].nunique()}\")"
   ]
  },
  {
   "cell_type": "code",
   "execution_count": 54,
   "metadata": {},
   "outputs": [
    {
     "data": {
      "application/vnd.microsoft.datawrangler.viewer.v0+json": {
       "columns": [
        {
         "name": "index",
         "rawType": "int64",
         "type": "integer"
        },
        {
         "name": "UserID",
         "rawType": "object",
         "type": "string"
        },
        {
         "name": "ReviewCount",
         "rawType": "int64",
         "type": "integer"
        }
       ],
       "conversionMethod": "pd.DataFrame",
       "ref": "807c89f0-f1d4-44cf-8376-8713518d88fa",
       "rows": [
        [
         "0",
         "A1L43KWWR05PCS",
         "500"
        ],
        [
         "1",
         "A2ODBHT4URXVXQ",
         "489"
        ],
        [
         "2",
         "A21NVBFIEQWDSG",
         "486"
        ],
        [
         "3",
         "AJQ1S39GZBKUG",
         "480"
        ],
        [
         "4",
         "AN8C7BGR98HLN",
         "468"
        ]
       ],
       "shape": {
        "columns": 2,
        "rows": 5
       }
      },
      "text/html": [
       "<div>\n",
       "<style scoped>\n",
       "    .dataframe tbody tr th:only-of-type {\n",
       "        vertical-align: middle;\n",
       "    }\n",
       "\n",
       "    .dataframe tbody tr th {\n",
       "        vertical-align: top;\n",
       "    }\n",
       "\n",
       "    .dataframe thead th {\n",
       "        text-align: right;\n",
       "    }\n",
       "</style>\n",
       "<table border=\"1\" class=\"dataframe\">\n",
       "  <thead>\n",
       "    <tr style=\"text-align: right;\">\n",
       "      <th></th>\n",
       "      <th>UserID</th>\n",
       "      <th>ReviewCount</th>\n",
       "    </tr>\n",
       "  </thead>\n",
       "  <tbody>\n",
       "    <tr>\n",
       "      <th>0</th>\n",
       "      <td>A1L43KWWR05PCS</td>\n",
       "      <td>500</td>\n",
       "    </tr>\n",
       "    <tr>\n",
       "      <th>1</th>\n",
       "      <td>A2ODBHT4URXVXQ</td>\n",
       "      <td>489</td>\n",
       "    </tr>\n",
       "    <tr>\n",
       "      <th>2</th>\n",
       "      <td>A21NVBFIEQWDSG</td>\n",
       "      <td>486</td>\n",
       "    </tr>\n",
       "    <tr>\n",
       "      <th>3</th>\n",
       "      <td>AJQ1S39GZBKUG</td>\n",
       "      <td>480</td>\n",
       "    </tr>\n",
       "    <tr>\n",
       "      <th>4</th>\n",
       "      <td>AN8C7BGR98HLN</td>\n",
       "      <td>468</td>\n",
       "    </tr>\n",
       "  </tbody>\n",
       "</table>\n",
       "</div>"
      ],
      "text/plain": [
       "           UserID  ReviewCount\n",
       "0  A1L43KWWR05PCS          500\n",
       "1  A2ODBHT4URXVXQ          489\n",
       "2  A21NVBFIEQWDSG          486\n",
       "3   AJQ1S39GZBKUG          480\n",
       "4   AN8C7BGR98HLN          468"
      ]
     },
     "execution_count": 54,
     "metadata": {},
     "output_type": "execute_result"
    }
   ],
   "source": [
    "user_review_counts = df_filter[\"UserID\"].value_counts()\n",
    "user_review_counts_df = user_review_counts.reset_index()\n",
    "user_review_counts_df.columns = [\"UserID\", \"ReviewCount\"]\n",
    "user_review_counts_df.head()"
   ]
  },
  {
   "cell_type": "code",
   "execution_count": 55,
   "metadata": {},
   "outputs": [
    {
     "name": "stdout",
     "output_type": "stream",
     "text": [
      "UserID\n",
      "A2ZR969KVK6QTI    0.000461\n",
      "A2Q543TN0328O1    0.000461\n",
      "A1Q6IFD94I4LN7    0.000461\n",
      "AF10IT6JETVJ7     0.000461\n",
      "AX64AMAD1RTMI     0.000461\n",
      "                    ...   \n",
      "AN8C7BGR98HLN     0.043156\n",
      "AJQ1S39GZBKUG     0.044263\n",
      "A21NVBFIEQWDSG    0.044816\n",
      "A2ODBHT4URXVXQ    0.045092\n",
      "A1L43KWWR05PCS    0.046107\n",
      "Name: proportion, Length: 81666, dtype: float64\n",
      "BookID\n",
      "1570981116    0.000092\n",
      "1932360778    0.000092\n",
      "069111496X    0.000092\n",
      "1579122833    0.000092\n",
      "0804815658    0.000092\n",
      "                ...   \n",
      "B000Q032UY    0.323762\n",
      "B000NWQXBA    0.325975\n",
      "B000PC54NG    0.326344\n",
      "B000NWU3I4    0.327911\n",
      "B000ILIJE0    0.328557\n",
      "Name: proportion, Length: 127943, dtype: float64\n",
      "Rating\n",
      "1.0     4.545576\n",
      "2.0     4.802483\n",
      "3.0    10.325247\n",
      "4.0    23.313068\n",
      "5.0    57.013626\n",
      "Name: proportion, dtype: float64\n"
     ]
    }
   ],
   "source": [
    "user_count = df_filter[\"UserID\"].value_counts(ascending=True, normalize=True)\n",
    "book_count = df_filter[\"BookID\"].value_counts(ascending=True, normalize=True)\n",
    "rating_count = df_filter[\"Rating\"].value_counts(ascending=True, normalize=True)\n",
    "\n",
    "print(user_count * 100)\n",
    "print(book_count* 100)\n",
    "print(rating_count * 100)"
   ]
  },
  {
   "cell_type": "markdown",
   "metadata": {},
   "source": [
    "## ***Normalizing***"
   ]
  },
  {
   "cell_type": "code",
   "execution_count": 56,
   "metadata": {},
   "outputs": [
    {
     "data": {
      "application/vnd.microsoft.datawrangler.viewer.v0+json": {
       "columns": [
        {
         "name": "index",
         "rawType": "int64",
         "type": "integer"
        },
        {
         "name": "BookID",
         "rawType": "int32",
         "type": "integer"
        },
        {
         "name": "UserID",
         "rawType": "int32",
         "type": "integer"
        },
        {
         "name": "Rating",
         "rawType": "float64",
         "type": "float"
        }
       ],
       "conversionMethod": "pd.DataFrame",
       "ref": "01451196-d42b-45fd-b227-a6747d520d51",
       "rows": [
        [
         "1",
         "44325",
         "43601",
         "5.0"
        ],
        [
         "3",
         "44325",
         "35211",
         "4.0"
        ],
        [
         "4",
         "44325",
         "23259",
         "4.0"
        ],
        [
         "5",
         "44325",
         "30608",
         "4.0"
        ],
        [
         "11",
         "44484",
         "47383",
         "5.0"
        ]
       ],
       "shape": {
        "columns": 3,
        "rows": 5
       }
      },
      "text/html": [
       "<div>\n",
       "<style scoped>\n",
       "    .dataframe tbody tr th:only-of-type {\n",
       "        vertical-align: middle;\n",
       "    }\n",
       "\n",
       "    .dataframe tbody tr th {\n",
       "        vertical-align: top;\n",
       "    }\n",
       "\n",
       "    .dataframe thead th {\n",
       "        text-align: right;\n",
       "    }\n",
       "</style>\n",
       "<table border=\"1\" class=\"dataframe\">\n",
       "  <thead>\n",
       "    <tr style=\"text-align: right;\">\n",
       "      <th></th>\n",
       "      <th>BookID</th>\n",
       "      <th>UserID</th>\n",
       "      <th>Rating</th>\n",
       "    </tr>\n",
       "  </thead>\n",
       "  <tbody>\n",
       "    <tr>\n",
       "      <th>1</th>\n",
       "      <td>44325</td>\n",
       "      <td>43601</td>\n",
       "      <td>5.0</td>\n",
       "    </tr>\n",
       "    <tr>\n",
       "      <th>3</th>\n",
       "      <td>44325</td>\n",
       "      <td>35211</td>\n",
       "      <td>4.0</td>\n",
       "    </tr>\n",
       "    <tr>\n",
       "      <th>4</th>\n",
       "      <td>44325</td>\n",
       "      <td>23259</td>\n",
       "      <td>4.0</td>\n",
       "    </tr>\n",
       "    <tr>\n",
       "      <th>5</th>\n",
       "      <td>44325</td>\n",
       "      <td>30608</td>\n",
       "      <td>4.0</td>\n",
       "    </tr>\n",
       "    <tr>\n",
       "      <th>11</th>\n",
       "      <td>44484</td>\n",
       "      <td>47383</td>\n",
       "      <td>5.0</td>\n",
       "    </tr>\n",
       "  </tbody>\n",
       "</table>\n",
       "</div>"
      ],
      "text/plain": [
       "    BookID  UserID  Rating\n",
       "1    44325   43601     5.0\n",
       "3    44325   35211     4.0\n",
       "4    44325   23259     4.0\n",
       "5    44325   30608     4.0\n",
       "11   44484   47383     5.0"
      ]
     },
     "execution_count": 56,
     "metadata": {},
     "output_type": "execute_result"
    }
   ],
   "source": [
    "user_encoder = LabelEncoder()\n",
    "book_encoder = LabelEncoder()\n",
    "\n",
    "df_filter[\"UserID\"] = user_encoder.fit_transform(df_filter[\"UserID\"])\n",
    "df_filter[\"BookID\"] = book_encoder.fit_transform(df_filter[\"BookID\"])\n",
    "\n",
    "df_filter.head()"
   ]
  },
  {
   "cell_type": "code",
   "execution_count": 57,
   "metadata": {},
   "outputs": [
    {
     "name": "stdout",
     "output_type": "stream",
     "text": [
      "Rating\n",
      "3.0    0.214932\n",
      "2.0    0.199125\n",
      "1.0    0.199053\n",
      "5.0    0.194218\n",
      "4.0    0.192672\n",
      "Name: proportion, dtype: float64\n",
      "count    60216.000000\n",
      "mean         3.909343\n",
      "std          6.131153\n",
      "min          1.000000\n",
      "25%          1.000000\n",
      "50%          2.000000\n",
      "75%          4.000000\n",
      "max        188.000000\n",
      "Name: count, dtype: float64\n"
     ]
    }
   ],
   "source": [
    "probabilities = {\n",
    "    1: 0.95,\n",
    "    2: 0.9,\n",
    "    3: 0.45,\n",
    "    4: 0.18,\n",
    "    5: 0.074\n",
    "}\n",
    "\n",
    "df_filter[\"Keep\"] = df_filter[\"Rating\"].apply(lambda x: np.random.rand() < probabilities[x])\n",
    "\n",
    "df_balanced = df_filter[df_filter[\"Keep\"]].drop(columns=[\"Keep\"])\n",
    "\n",
    "print(df_balanced[\"Rating\"].value_counts(normalize=True))\n",
    "\n",
    "user_counts = df_balanced[\"UserID\"].value_counts()\n",
    "print(user_counts.describe())"
   ]
  },
  {
   "cell_type": "code",
   "execution_count": 58,
   "metadata": {},
   "outputs": [
    {
     "name": "stdout",
     "output_type": "stream",
     "text": [
      "<class 'pandas.core.frame.DataFrame'>\n",
      "Index: 235405 entries, 4 to 2999975\n",
      "Data columns (total 3 columns):\n",
      " #   Column  Non-Null Count   Dtype  \n",
      "---  ------  --------------   -----  \n",
      " 0   BookID  235405 non-null  int32  \n",
      " 1   UserID  235405 non-null  int32  \n",
      " 2   Rating  235405 non-null  float64\n",
      "dtypes: float64(1), int32(2)\n",
      "memory usage: 5.4 MB\n",
      "None\n",
      "              BookID         UserID         Rating\n",
      "count  235405.000000  235405.000000  235405.000000\n",
      "mean    77651.893006   40948.182749       2.983879\n",
      "std     37816.261417   23578.656676       1.401653\n",
      "min         1.000000       0.000000       1.000000\n",
      "25%     43330.000000   20341.000000       2.000000\n",
      "50%     86130.000000   41011.000000       3.000000\n",
      "75%    108950.000000   61320.000000       4.000000\n",
      "max    127942.000000   81664.000000       5.000000\n",
      "     BookID  UserID  Rating\n",
      "4     44325   23259     4.0\n",
      "61    46268   77592     2.0\n",
      "66    52147   44945     5.0\n",
      "79    97427   31996     5.0\n",
      "174   95458   19558     2.0\n",
      "Number of unique users: 60216\n",
      "Number of unique books: 54181\n",
      "Number of unique ratings: 5\n"
     ]
    }
   ],
   "source": [
    "print(df_balanced.info())\n",
    "print(df_balanced.describe())\n",
    "print(df_balanced.head())\n",
    "\n",
    "print(f\"Number of unique users: {df_balanced[\"UserID\"].nunique()}\")\n",
    "print(f\"Number of unique books: {df_balanced[\"BookID\"].nunique()}\")\n",
    "print(f\"Number of unique ratings: {df_balanced[\"Rating\"].nunique()}\")"
   ]
  },
  {
   "cell_type": "markdown",
   "metadata": {},
   "source": [
    "## ***Visualizing***"
   ]
  },
  {
   "cell_type": "code",
   "execution_count": 59,
   "metadata": {},
   "outputs": [
    {
     "data": {
      "image/png": "[encoded data removed]",
      "text/plain": [
       "<Figure size 800x500 with 1 Axes>"
      ]
     },
     "metadata": {},
     "output_type": "display_data"
    }
   ],
   "source": [
    "rating_counts = df_balanced[\"Rating\"].value_counts(normalize=True) * 100\n",
    "\n",
    "plt.figure(figsize=(8, 5))\n",
    "ax = sns.barplot(x=rating_counts.index, y=rating_counts.values, hue=rating_counts.index, palette=\"deep\", legend=False)\n",
    "\n",
    "for p in ax.patches:\n",
    "    ax.annotate(f\"{p.get_height():.1f}%\", (p.get_x() + p.get_width() / 2, p.get_height()), \n",
    "                ha='center', va='bottom', fontsize=12, fontweight='bold', color='black')\n",
    "\n",
    "plt.xlabel(\"User Rating\")\n",
    "plt.ylabel(\"Distribution (%)\")\n",
    "plt.title(\"Distribution of User Ratings\")\n",
    "plt.ylim(0, max(rating_counts.values) + 5)\n",
    "\n",
    "plt.savefig(\"../images/user_rating_distribution.png\", dpi=300, facecolor=\"white\", bbox_inches=\"tight\", transparent=True)\n",
    "\n",
    "plt.show()"
   ]
  },
  {
   "cell_type": "markdown",
   "metadata": {},
   "source": [
    "# **Step 4: Train Model**"
   ]
  },
  {
   "cell_type": "code",
   "execution_count": 60,
   "metadata": {},
   "outputs": [],
   "source": [
    "reader = Reader(rating_scale=(1, 5))\n",
    "\n",
    "data = Dataset.load_from_df(df_balanced[[\"UserID\", \"BookID\", \"Rating\"]], reader)\n",
    "\n",
    "trainset, testset = train_test_split(data, test_size=0.2, random_state=42)"
   ]
  },
  {
   "cell_type": "code",
   "execution_count": 61,
   "metadata": {},
   "outputs": [
    {
     "name": "stdout",
     "output_type": "stream",
     "text": [
      "Best RMSE: 1.1144214396635375\n",
      "Best Params: {'n_factors': 50, 'n_epochs': 30, 'lr_all': 0.005, 'reg_all': 0.02}\n"
     ]
    }
   ],
   "source": [
    "from surprise.model_selection import GridSearchCV\n",
    "from surprise import SVD\n",
    "\n",
    "# Định nghĩa tham số cần tối ưu\n",
    "param_grid = {\n",
    "    \"n_factors\": [50, 100],\n",
    "    \"n_epochs\": [20, 30],\n",
    "    \"lr_all\": [0.002, 0.005],\n",
    "    \"reg_all\": [0.02, 0.05]\n",
    "}\n",
    "\n",
    "# Chạy Grid Search để tìm bộ tham số tốt nhất (bỏ verbose)\n",
    "grid_search = GridSearchCV(SVD, param_grid, measures=[\"rmse\"], cv=3)\n",
    "grid_search.fit(data)\n",
    "\n",
    "# Kết quả\n",
    "print(\"Best RMSE:\", grid_search.best_score[\"rmse\"])\n",
    "print(\"Best Params:\", grid_search.best_params[\"rmse\"])"
   ]
  },
  {
   "cell_type": "code",
   "execution_count": 62,
   "metadata": {},
   "outputs": [
    {
     "name": "stdout",
     "output_type": "stream",
     "text": [
      "RMSE: 1.0798\n"
     ]
    }
   ],
   "source": [
    "model = SVD(n_factors=50, n_epochs=30, lr_all=0.005, reg_all=0.02, random_state=42)\n",
    "\n",
    "model.fit(trainset)\n",
    "\n",
    "predictions = model.test(testset)\n",
    "\n",
    "rmse = accuracy.rmse(predictions)"
   ]
  },
  {
   "cell_type": "markdown",
   "metadata": {},
   "source": [
    "# **Step 5: Recommend Book**"
   ]
  },
  {
   "cell_type": "code",
   "execution_count": 65,
   "metadata": {},
   "outputs": [],
   "source": [
    "def recommend_books(user_id, model, df, n=10):\n",
    "    # Lấy danh sách tất cả sách\n",
    "    all_books = df[\"BookID\"].unique()\n",
    "    \n",
    "    # Lọc ra những sách mà user chưa đánh giá\n",
    "    rated_books = df[df[\"UserID\"] == user_id][\"BookID\"].values\n",
    "    books_to_predict = [book for book in all_books if book not in rated_books]\n",
    "    \n",
    "    # Dự đoán rating cho từng sách chưa đọc\n",
    "    predictions = [model.predict(user_id, book) for book in books_to_predict]\n",
    "    \n",
    "    # Sắp xếp theo rating dự đoán giảm dần\n",
    "    predictions.sort(key=lambda x: x.est, reverse=True)\n",
    "    \n",
    "    # Lấy top n sách gợi ý\n",
    "    recommended_books = [pred.iid for pred in predictions[:n]]\n",
    "    \n",
    "    return recommended_books"
   ]
  },
  {
   "cell_type": "code",
   "execution_count": 66,
   "metadata": {},
   "outputs": [
    {
     "name": "stdout",
     "output_type": "stream",
     "text": [
      "Top 5 sách gợi ý cho user A1L43KWWR05PCS: [126554, 102850, 103929, 119347, 121131, 103936, 121112, 106321, 108581, 83173]\n"
     ]
    }
   ],
   "source": [
    "user_id = \"A1L43KWWR05PCS\"  # Chọn một UserID có trong dataset\n",
    "recommended_books = recommend_books(user_id, model, df_balanced)\n",
    "\n",
    "print(f\"Top 5 sách gợi ý cho user {user_id}: {recommended_books}\")"
   ]
  }
 ],
 "metadata": {
  "kernelspec": {
   "display_name": "venv",
   "language": "python",
   "name": "python3"
  },
  "language_info": {
   "codemirror_mode": {
    "name": "ipython",
    "version": 3
   },
   "file_extension": ".py",
   "mimetype": "text/x-python",
   "name": "python",
   "nbconvert_exporter": "python",
   "pygments_lexer": "ipython3",
   "version": "3.12.5"
  }
 },
 "nbformat": 4,
 "nbformat_minor": 2
}
